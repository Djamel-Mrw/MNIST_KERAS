{
 "cells": [
  {
   "cell_type": "code",
   "execution_count": 1,
   "id": "ab905013",
   "metadata": {},
   "outputs": [],
   "source": [
    "import numpy as np"
   ]
  },
  {
   "cell_type": "code",
   "execution_count": 2,
   "id": "eafccb19",
   "metadata": {},
   "outputs": [],
   "source": [
    "import matplotlib.pyplot as plt"
   ]
  },
  {
   "cell_type": "code",
   "execution_count": 3,
   "id": "82d2d004",
   "metadata": {},
   "outputs": [
    {
     "name": "stderr",
     "output_type": "stream",
     "text": [
      "2021-12-05 02:47:11.720826: W tensorflow/stream_executor/platform/default/dso_loader.cc:64] Could not load dynamic library 'libcudart.so.11.0'; dlerror: libcudart.so.11.0: cannot open shared object file: No such file or directory\n",
      "2021-12-05 02:47:11.720853: I tensorflow/stream_executor/cuda/cudart_stub.cc:29] Ignore above cudart dlerror if you do not have a GPU set up on your machine.\n"
     ]
    }
   ],
   "source": [
    "from keras.datasets import mnist"
   ]
  },
  {
   "cell_type": "code",
   "execution_count": 4,
   "id": "fec37311",
   "metadata": {},
   "outputs": [],
   "source": [
    "from sklearn.metrics import confusion_matrix,classification_report"
   ]
  },
  {
   "cell_type": "code",
   "execution_count": 5,
   "id": "08951c68",
   "metadata": {},
   "outputs": [],
   "source": [
    "import scikitplot as skplt"
   ]
  },
  {
   "cell_type": "markdown",
   "id": "bf22e9f7",
   "metadata": {},
   "source": [
    "importation des bibliotheques"
   ]
  },
  {
   "cell_type": "code",
   "execution_count": 6,
   "id": "eec70de7",
   "metadata": {},
   "outputs": [],
   "source": [
    "from keras.models import Sequential,Model"
   ]
  },
  {
   "cell_type": "code",
   "execution_count": 7,
   "id": "951779dc",
   "metadata": {},
   "outputs": [],
   "source": [
    "from tensorflow.keras.layers import Input,InputLayer,Reshape,Conv2D, MaxPooling2D,Dense, Flatten "
   ]
  },
  {
   "cell_type": "code",
   "execution_count": 8,
   "id": "2d003239",
   "metadata": {},
   "outputs": [],
   "source": [
    "from keras.layers.core import Dense,Dropout, Activation"
   ]
  },
  {
   "cell_type": "markdown",
   "id": "c17e44bd",
   "metadata": {},
   "source": [
    "chargement les données de mnist"
   ]
  },
  {
   "cell_type": "code",
   "execution_count": 9,
   "id": "d5ea6ac6",
   "metadata": {},
   "outputs": [],
   "source": [
    "(X_train, y_train), (X_test, y_test) = mnist.load_data()"
   ]
  },
  {
   "cell_type": "code",
   "execution_count": 10,
   "id": "1e62a613",
   "metadata": {},
   "outputs": [
    {
     "name": "stdout",
     "output_type": "stream",
     "text": [
      "Taille de:\n",
      "- Ensemble d'apprentissage: (60000, 28, 28)\n",
      "- Ensemble de test: (10000, 28, 28)\n"
     ]
    }
   ],
   "source": [
    "print(\"Taille de:\")\n",
    "print(\"- Ensemble d'apprentissage:\",format(X_train.shape))\n",
    "print(\"- Ensemble de test:\",format(X_test.shape))"
   ]
  },
  {
   "cell_type": "code",
   "execution_count": 11,
   "id": "d1abf4f2",
   "metadata": {},
   "outputs": [
    {
     "data": {
      "image/png": "[encoded data removed]",
      "text/plain": [
       "<Figure size 432x288 with 9 Axes>"
      ]
     },
     "metadata": {
      "needs_background": "light"
     },
     "output_type": "display_data"
    }
   ],
   "source": [
    "for i in range(9):\n",
    "    plt.subplot(3,3,i+1)\n",
    "    plt.imshow(X_train[i], cmap='gray',\n",
    "    interpolation='none')\n",
    "    plt.subplots_adjust(hspace=1,\n",
    "    wspace=0.5)\n",
    "    plt.title(\"Class {}\".format(y_train[i]))"
   ]
  },
  {
   "cell_type": "code",
   "execution_count": 12,
   "id": "5e04bbce",
   "metadata": {},
   "outputs": [],
   "source": [
    "X_train = X_train.reshape(60000, 784)\n",
    "X_test = X_test.reshape(10000, 784)"
   ]
  },
  {
   "cell_type": "code",
   "execution_count": 13,
   "id": "e946a6cf",
   "metadata": {},
   "outputs": [],
   "source": [
    "X_train = X_train.astype('float32')\n",
    "X_test = X_test.astype('float32')\n",
    "X_train /= 255\n",
    "X_test /= 255"
   ]
  },
  {
   "cell_type": "markdown",
   "id": "647dbdad",
   "metadata": {},
   "source": [
    "preparation les données pour l'apprentissage"
   ]
  },
  {
   "cell_type": "code",
   "execution_count": 14,
   "id": "6e1e07f9",
   "metadata": {},
   "outputs": [],
   "source": [
    "from keras.utils import np_utils"
   ]
  },
  {
   "cell_type": "code",
   "execution_count": 15,
   "id": "5ff98288",
   "metadata": {
    "scrolled": true
   },
   "outputs": [],
   "source": [
    "Y_train = np_utils.to_categorical(y_train,10)\n",
    "Y_test = np_utils.to_categorical(y_test,10)"
   ]
  },
  {
   "cell_type": "code",
   "execution_count": 16,
   "id": "1e234419",
   "metadata": {},
   "outputs": [
    {
     "name": "stdout",
     "output_type": "stream",
     "text": [
      "[1. 0. 0. 0. 0. 0. 0. 0. 0. 0.]\n",
      "[0. 0. 1. 0. 0. 0. 0. 0. 0. 0.]\n"
     ]
    }
   ],
   "source": [
    "print(Y_train[1])\n",
    "print(Y_test[1])"
   ]
  },
  {
   "cell_type": "code",
   "execution_count": 17,
   "id": "2d4e78de",
   "metadata": {},
   "outputs": [
    {
     "name": "stderr",
     "output_type": "stream",
     "text": [
      "2021-12-05 02:47:16.388504: E tensorflow/stream_executor/cuda/cuda_driver.cc:271] failed call to cuInit: CUDA_ERROR_NO_DEVICE: no CUDA-capable device is detected\n",
      "2021-12-05 02:47:16.388561: I tensorflow/stream_executor/cuda/cuda_diagnostics.cc:156] kernel driver does not appear to be running on this host (jamell-VivoBook-ASUSLaptop-X571GT-F571GT): /proc/driver/nvidia/version does not exist\n",
      "2021-12-05 02:47:16.401778: I tensorflow/core/platform/cpu_feature_guard.cc:151] This TensorFlow binary is optimized with oneAPI Deep Neural Network Library (oneDNN) to use the following CPU instructions in performance-critical operations:  AVX2 FMA\n",
      "To enable them in other operations, rebuild TensorFlow with the appropriate compiler flags.\n"
     ]
    }
   ],
   "source": [
    "img_shape_full = (28, 28, 1)\n",
    "nb_classes=10\n",
    "model = Sequential()\n"
   ]
  },
  {
   "cell_type": "code",
   "execution_count": 18,
   "id": "98d82c9e",
   "metadata": {},
   "outputs": [],
   "source": [
    "model.add(InputLayer(input_shape=(784,)))\n",
    "model.add(Reshape(img_shape_full))\n"
   ]
  },
  {
   "cell_type": "code",
   "execution_count": 19,
   "id": "da0c7b50",
   "metadata": {},
   "outputs": [],
   "source": [
    "model.add(Conv2D(kernel_size=5, strides=1, filters=16, padding='same',activation='relu',name='layer_conv1'))\n",
    "model.add(MaxPooling2D(pool_size=2, strides=2))"
   ]
  },
  {
   "cell_type": "code",
   "execution_count": 20,
   "id": "370f74d8",
   "metadata": {},
   "outputs": [],
   "source": [
    "model.add(Conv2D(kernel_size=5, strides=1, filters=36, padding='same',activation='relu',name='layer_conv2'))\n",
    "model.add(MaxPooling2D(pool_size=2, strides=2))"
   ]
  },
  {
   "cell_type": "code",
   "execution_count": 21,
   "id": "cb20fc9d",
   "metadata": {},
   "outputs": [],
   "source": [
    "model.add(Flatten())"
   ]
  },
  {
   "cell_type": "code",
   "execution_count": 22,
   "id": "57f376d1",
   "metadata": {},
   "outputs": [],
   "source": [
    "model.add(Dense(128, activation='relu'))"
   ]
  },
  {
   "cell_type": "code",
   "execution_count": 23,
   "id": "1038a1c1",
   "metadata": {},
   "outputs": [],
   "source": [
    "model.add(Dense(nb_classes, activation='softmax'))"
   ]
  },
  {
   "cell_type": "code",
   "execution_count": 24,
   "id": "74f05fd3",
   "metadata": {},
   "outputs": [],
   "source": [
    "inputs = Input(shape=(784,))"
   ]
  },
  {
   "cell_type": "code",
   "execution_count": 25,
   "id": "0d2e1aac",
   "metadata": {},
   "outputs": [],
   "source": [
    "net = inputs"
   ]
  },
  {
   "cell_type": "code",
   "execution_count": 26,
   "id": "6ab12f13",
   "metadata": {},
   "outputs": [],
   "source": [
    "net = Reshape(img_shape_full)(net)"
   ]
  },
  {
   "cell_type": "code",
   "execution_count": 27,
   "id": "b9005776",
   "metadata": {},
   "outputs": [],
   "source": [
    "net = Conv2D(kernel_size=5, strides=1, filters=16, padding='same', activation='relu', name='layer_conv1')(net)"
   ]
  },
  {
   "cell_type": "code",
   "execution_count": 28,
   "id": "10e397d4",
   "metadata": {},
   "outputs": [],
   "source": [
    "net = MaxPooling2D(pool_size=2, strides=2)(net)"
   ]
  },
  {
   "cell_type": "code",
   "execution_count": 29,
   "id": "3ef4382b",
   "metadata": {},
   "outputs": [],
   "source": [
    "net = Conv2D(kernel_size=5, strides=1, filters=36, padding='same', activation='relu', name='layer_conv2')(net)"
   ]
  },
  {
   "cell_type": "code",
   "execution_count": 30,
   "id": "cb7d8a22",
   "metadata": {},
   "outputs": [],
   "source": [
    "net = MaxPooling2D(pool_size=2, strides=2)(net)"
   ]
  },
  {
   "cell_type": "code",
   "execution_count": 31,
   "id": "6e148560",
   "metadata": {},
   "outputs": [],
   "source": [
    "net = Flatten()(net)"
   ]
  },
  {
   "cell_type": "code",
   "execution_count": 32,
   "id": "3bc90b02",
   "metadata": {},
   "outputs": [],
   "source": [
    "net = Dense(128, activation='relu')(net)"
   ]
  },
  {
   "cell_type": "code",
   "execution_count": 33,
   "id": "dc644675",
   "metadata": {},
   "outputs": [],
   "source": [
    "net = Dense(nb_classes, activation='softmax')(net)"
   ]
  },
  {
   "cell_type": "code",
   "execution_count": 34,
   "id": "457c942b",
   "metadata": {},
   "outputs": [],
   "source": [
    "outputs = net"
   ]
  },
  {
   "cell_type": "code",
   "execution_count": 35,
   "id": "3171d9dd",
   "metadata": {},
   "outputs": [],
   "source": [
    "model2 = Model(inputs=inputs, outputs=outputs)"
   ]
  },
  {
   "cell_type": "code",
   "execution_count": 36,
   "id": "8d81e747",
   "metadata": {},
   "outputs": [
    {
     "data": {
      "text/plain": [
       "<keras.engine.training.Model at 0x7fb909b1be20>"
      ]
     },
     "execution_count": 36,
     "metadata": {},
     "output_type": "execute_result"
    }
   ],
   "source": [
    "Model()"
   ]
  },
  {
   "cell_type": "code",
   "execution_count": 37,
   "id": "e409e5d0",
   "metadata": {},
   "outputs": [
    {
     "ename": "NameError",
     "evalue": "name 'Modem' is not defined",
     "output_type": "error",
     "traceback": [
      "\u001b[0;31m---------------------------------------------------------------------------\u001b[0m",
      "\u001b[0;31mNameError\u001b[0m                                 Traceback (most recent call last)",
      "\u001b[0;32m/tmp/ipykernel_3633/1526263491.py\u001b[0m in \u001b[0;36m<module>\u001b[0;34m\u001b[0m\n\u001b[0;32m----> 1\u001b[0;31m \u001b[0mModem\u001b[0m\u001b[0;34m.\u001b[0m\u001b[0msumary\u001b[0m\u001b[0;34m(\u001b[0m\u001b[0;34m)\u001b[0m\u001b[0;34m\u001b[0m\u001b[0;34m\u001b[0m\u001b[0m\n\u001b[0m",
      "\u001b[0;31mNameError\u001b[0m: name 'Modem' is not defined"
     ]
    }
   ],
   "source": [
    "Modem.sumary()"
   ]
  },
  {
   "cell_type": "code",
   "execution_count": null,
   "id": "229f5ec8",
   "metadata": {},
   "outputs": [],
   "source": [
    "model.compile(loss='categorical_crossentropy',metrics=['accuracy'],optimizer='adam')"
   ]
  },
  {
   "cell_type": "code",
   "execution_count": null,
   "id": "710a06d5",
   "metadata": {},
   "outputs": [],
   "source": [
    "model.fit(X_train, Y_train,batch_size=128, epochs=10,verbose=1)"
   ]
  },
  {
   "cell_type": "markdown",
   "id": "7656e377",
   "metadata": {},
   "source": [
    "prédection"
   ]
  },
  {
   "cell_type": "code",
   "execution_count": null,
   "id": "34f884e2",
   "metadata": {},
   "outputs": [],
   "source": [
    "np.argmax(model.predict(X_test), axis=-1)"
   ]
  },
  {
   "cell_type": "code",
   "execution_count": null,
   "id": "3940cc30",
   "metadata": {},
   "outputs": [],
   "source": [
    "predicted_classes = np.argmax(model.predict(X_test), axis=-1)\n",
    "correct_indices = np.nonzero(predicted_classes == y_test)[0]\n",
    "incorrect_indices = np.nonzero(predicted_classes != y_test)[0]\n",
    "plt.figure()\n",
    "for i, incorrect in enumerate(incorrect_indices[:9]):\n",
    "    plt.subplot(3,3,i+1)\n",
    "    plt.imshow(X_test[incorrect].reshape(28,28), cmap='gray',interpolation='none')\n",
    "    plt.subplots_adjust(hspace=1, wspace=1.5)\n",
    "    plt.title(\"Predicted {}, Class {}\".format(predicted_classes[incorrect],y_test[incorrect]))"
   ]
  },
  {
   "cell_type": "markdown",
   "id": "6fef4d7a",
   "metadata": {},
   "source": [
    "https://stackoverflow.com/questions/68836551/keras-attributeerror-sequential-object-has-no-attribute-predict-classes\n",
    "\n",
    "erreure model.ùpredict_class() ma3adech yekhedmou beha tbadlmet"
   ]
  },
  {
   "cell_type": "code",
   "execution_count": null,
   "id": "a01c6dcb",
   "metadata": {},
   "outputs": [],
   "source": [
    " import scikitplot as skplt"
   ]
  },
  {
   "cell_type": "code",
   "execution_count": null,
   "id": "77ba1b14",
   "metadata": {},
   "outputs": [],
   "source": [
    "skplt.metrics.plot_confusion_matrix(y_test, predicted_classes,normalize=False)\n",
    "plt.show()"
   ]
  },
  {
   "cell_type": "code",
   "execution_count": 39,
   "id": "46fa9353",
   "metadata": {},
   "outputs": [
    {
     "ename": "NameError",
     "evalue": "name 'predicted_classes' is not defined",
     "output_type": "error",
     "traceback": [
      "\u001b[0;31m---------------------------------------------------------------------------\u001b[0m",
      "\u001b[0;31mNameError\u001b[0m                                 Traceback (most recent call last)",
      "\u001b[0;32m/tmp/ipykernel_3633/2979363585.py\u001b[0m in \u001b[0;36m<module>\u001b[0;34m\u001b[0m\n\u001b[0;32m----> 1\u001b[0;31m \u001b[0mprint\u001b[0m \u001b[0;34m(\u001b[0m\u001b[0mconfusion_matrix\u001b[0m\u001b[0;34m(\u001b[0m\u001b[0my_test\u001b[0m\u001b[0;34m,\u001b[0m \u001b[0mpredicted_classes\u001b[0m\u001b[0;34m)\u001b[0m\u001b[0;34m)\u001b[0m\u001b[0;34m\u001b[0m\u001b[0;34m\u001b[0m\u001b[0m\n\u001b[0m",
      "\u001b[0;31mNameError\u001b[0m: name 'predicted_classes' is not defined"
     ]
    }
   ],
   "source": [
    "print (confusion_matrix(y_test, predicted_classes))"
   ]
  },
  {
   "cell_type": "code",
   "execution_count": null,
   "id": "5eadba0c",
   "metadata": {},
   "outputs": [],
   "source": []
  }
 ],
 "metadata": {
  "kernelspec": {
   "display_name": "Python 3 (ipykernel)",
   "language": "python",
   "name": "python3"
  },
  "language_info": {
   "codemirror_mode": {
    "name": "ipython",
    "version": 3
   },
   "file_extension": ".py",
   "mimetype": "text/x-python",
   "name": "python",
   "nbconvert_exporter": "python",
   "pygments_lexer": "ipython3",
   "version": "3.9.7"
  }
 },
 "nbformat": 4,
 "nbformat_minor": 5
}
